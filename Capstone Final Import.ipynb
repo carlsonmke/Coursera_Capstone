{
    "cells": [
        {
            "cell_type": "code",
            "execution_count": 1,
            "metadata": {},
            "outputs": [],
            "source": "import pandas as pd\nimport numpy as np\nimport matplotlib as plt\nimport scipy as sp"
        },
        {
            "cell_type": "code",
            "execution_count": 2,
            "metadata": {},
            "outputs": [
                {
                    "name": "stderr",
                    "output_type": "stream",
                    "text": "/opt/conda/envs/Python36/lib/python3.6/site-packages/IPython/core/interactiveshell.py:3020: DtypeWarning: Columns (33) have mixed types. Specify dtype option on import or set low_memory=False.\n  interactivity=interactivity, compiler=compiler, result=result)\n"
                },
                {
                    "data": {
                        "text/html": "<div>\n<style scoped>\n    .dataframe tbody tr th:only-of-type {\n        vertical-align: middle;\n    }\n\n    .dataframe tbody tr th {\n        vertical-align: top;\n    }\n\n    .dataframe thead th {\n        text-align: right;\n    }\n</style>\n<table border=\"1\" class=\"dataframe\">\n  <thead>\n    <tr style=\"text-align: right;\">\n      <th></th>\n      <th>SEVERITYCODE</th>\n      <th>X</th>\n      <th>Y</th>\n      <th>OBJECTID</th>\n      <th>INCKEY</th>\n      <th>COLDETKEY</th>\n      <th>REPORTNO</th>\n      <th>STATUS</th>\n      <th>ADDRTYPE</th>\n      <th>INTKEY</th>\n      <th>...</th>\n      <th>ROADCOND</th>\n      <th>LIGHTCOND</th>\n      <th>PEDROWNOTGRNT</th>\n      <th>SDOTCOLNUM</th>\n      <th>SPEEDING</th>\n      <th>ST_COLCODE</th>\n      <th>ST_COLDESC</th>\n      <th>SEGLANEKEY</th>\n      <th>CROSSWALKKEY</th>\n      <th>HITPARKEDCAR</th>\n    </tr>\n  </thead>\n  <tbody>\n    <tr>\n      <th>0</th>\n      <td>2</td>\n      <td>-122.323148</td>\n      <td>47.703140</td>\n      <td>1</td>\n      <td>1307</td>\n      <td>1307</td>\n      <td>3502005</td>\n      <td>Matched</td>\n      <td>Intersection</td>\n      <td>37475.0</td>\n      <td>...</td>\n      <td>Wet</td>\n      <td>Daylight</td>\n      <td>NaN</td>\n      <td>NaN</td>\n      <td>NaN</td>\n      <td>10</td>\n      <td>Entering at angle</td>\n      <td>0</td>\n      <td>0</td>\n      <td>N</td>\n    </tr>\n    <tr>\n      <th>1</th>\n      <td>1</td>\n      <td>-122.347294</td>\n      <td>47.647172</td>\n      <td>2</td>\n      <td>52200</td>\n      <td>52200</td>\n      <td>2607959</td>\n      <td>Matched</td>\n      <td>Block</td>\n      <td>NaN</td>\n      <td>...</td>\n      <td>Wet</td>\n      <td>Dark - Street Lights On</td>\n      <td>NaN</td>\n      <td>6354039.0</td>\n      <td>NaN</td>\n      <td>11</td>\n      <td>From same direction - both going straight - bo...</td>\n      <td>0</td>\n      <td>0</td>\n      <td>N</td>\n    </tr>\n    <tr>\n      <th>2</th>\n      <td>1</td>\n      <td>-122.334540</td>\n      <td>47.607871</td>\n      <td>3</td>\n      <td>26700</td>\n      <td>26700</td>\n      <td>1482393</td>\n      <td>Matched</td>\n      <td>Block</td>\n      <td>NaN</td>\n      <td>...</td>\n      <td>Dry</td>\n      <td>Daylight</td>\n      <td>NaN</td>\n      <td>4323031.0</td>\n      <td>NaN</td>\n      <td>32</td>\n      <td>One parked--one moving</td>\n      <td>0</td>\n      <td>0</td>\n      <td>N</td>\n    </tr>\n    <tr>\n      <th>3</th>\n      <td>1</td>\n      <td>-122.334803</td>\n      <td>47.604803</td>\n      <td>4</td>\n      <td>1144</td>\n      <td>1144</td>\n      <td>3503937</td>\n      <td>Matched</td>\n      <td>Block</td>\n      <td>NaN</td>\n      <td>...</td>\n      <td>Dry</td>\n      <td>Daylight</td>\n      <td>NaN</td>\n      <td>NaN</td>\n      <td>NaN</td>\n      <td>23</td>\n      <td>From same direction - all others</td>\n      <td>0</td>\n      <td>0</td>\n      <td>N</td>\n    </tr>\n    <tr>\n      <th>4</th>\n      <td>2</td>\n      <td>-122.306426</td>\n      <td>47.545739</td>\n      <td>5</td>\n      <td>17700</td>\n      <td>17700</td>\n      <td>1807429</td>\n      <td>Matched</td>\n      <td>Intersection</td>\n      <td>34387.0</td>\n      <td>...</td>\n      <td>Wet</td>\n      <td>Daylight</td>\n      <td>NaN</td>\n      <td>4028032.0</td>\n      <td>NaN</td>\n      <td>10</td>\n      <td>Entering at angle</td>\n      <td>0</td>\n      <td>0</td>\n      <td>N</td>\n    </tr>\n  </tbody>\n</table>\n<p>5 rows \u00d7 38 columns</p>\n</div>",
                        "text/plain": "   SEVERITYCODE           X          Y  OBJECTID  INCKEY  COLDETKEY REPORTNO  \\\n0             2 -122.323148  47.703140         1    1307       1307  3502005   \n1             1 -122.347294  47.647172         2   52200      52200  2607959   \n2             1 -122.334540  47.607871         3   26700      26700  1482393   \n3             1 -122.334803  47.604803         4    1144       1144  3503937   \n4             2 -122.306426  47.545739         5   17700      17700  1807429   \n\n    STATUS      ADDRTYPE   INTKEY  ... ROADCOND                LIGHTCOND  \\\n0  Matched  Intersection  37475.0  ...      Wet                 Daylight   \n1  Matched         Block      NaN  ...      Wet  Dark - Street Lights On   \n2  Matched         Block      NaN  ...      Dry                 Daylight   \n3  Matched         Block      NaN  ...      Dry                 Daylight   \n4  Matched  Intersection  34387.0  ...      Wet                 Daylight   \n\n  PEDROWNOTGRNT  SDOTCOLNUM SPEEDING ST_COLCODE  \\\n0           NaN         NaN      NaN         10   \n1           NaN   6354039.0      NaN         11   \n2           NaN   4323031.0      NaN         32   \n3           NaN         NaN      NaN         23   \n4           NaN   4028032.0      NaN         10   \n\n                                          ST_COLDESC  SEGLANEKEY  \\\n0                                  Entering at angle           0   \n1  From same direction - both going straight - bo...           0   \n2                             One parked--one moving           0   \n3                   From same direction - all others           0   \n4                                  Entering at angle           0   \n\n   CROSSWALKKEY  HITPARKEDCAR  \n0             0             N  \n1             0             N  \n2             0             N  \n3             0             N  \n4             0             N  \n\n[5 rows x 38 columns]"
                    },
                    "execution_count": 2,
                    "metadata": {},
                    "output_type": "execute_result"
                }
            ],
            "source": "# The code for importing the dataset was removed by Watson Studio for sharing."
        },
        {
            "cell_type": "code",
            "execution_count": 3,
            "metadata": {},
            "outputs": [
                {
                    "data": {
                        "text/plain": "Index(['SEVERITYCODE', 'X', 'Y', 'OBJECTID', 'INCKEY', 'COLDETKEY', 'REPORTNO',\n       'STATUS', 'ADDRTYPE', 'INTKEY', 'LOCATION', 'EXCEPTRSNCODE',\n       'EXCEPTRSNDESC', 'SEVERITYCODE.1', 'SEVERITYDESC', 'COLLISIONTYPE',\n       'PERSONCOUNT', 'PEDCOUNT', 'PEDCYLCOUNT', 'VEHCOUNT', 'INCDATE',\n       'INCDTTM', 'JUNCTIONTYPE', 'SDOT_COLCODE', 'SDOT_COLDESC',\n       'INATTENTIONIND', 'UNDERINFL', 'WEATHER', 'ROADCOND', 'LIGHTCOND',\n       'PEDROWNOTGRNT', 'SDOTCOLNUM', 'SPEEDING', 'ST_COLCODE', 'ST_COLDESC',\n       'SEGLANEKEY', 'CROSSWALKKEY', 'HITPARKEDCAR'],\n      dtype='object')"
                    },
                    "execution_count": 3,
                    "metadata": {},
                    "output_type": "execute_result"
                }
            ],
            "source": "#showing columns of data\ndf_data_1.columns"
        },
        {
            "cell_type": "code",
            "execution_count": 4,
            "metadata": {},
            "outputs": [
                {
                    "data": {
                        "text/plain": "SEVERITYCODE        int64\nX                 float64\nY                 float64\nOBJECTID            int64\nINCKEY              int64\nCOLDETKEY           int64\nREPORTNO           object\nSTATUS             object\nADDRTYPE           object\nINTKEY            float64\nLOCATION           object\nEXCEPTRSNCODE      object\nEXCEPTRSNDESC      object\nSEVERITYCODE.1      int64\nSEVERITYDESC       object\nCOLLISIONTYPE      object\nPERSONCOUNT         int64\nPEDCOUNT            int64\nPEDCYLCOUNT         int64\nVEHCOUNT            int64\nINCDATE            object\nINCDTTM            object\nJUNCTIONTYPE       object\nSDOT_COLCODE        int64\nSDOT_COLDESC       object\nINATTENTIONIND     object\nUNDERINFL          object\nWEATHER            object\nROADCOND           object\nLIGHTCOND          object\nPEDROWNOTGRNT      object\nSDOTCOLNUM        float64\nSPEEDING           object\nST_COLCODE         object\nST_COLDESC         object\nSEGLANEKEY          int64\nCROSSWALKKEY        int64\nHITPARKEDCAR       object\ndtype: object"
                    },
                    "execution_count": 4,
                    "metadata": {},
                    "output_type": "execute_result"
                }
            ],
            "source": "#Determining what type of data is in the spread sheet.\ndf_data_1.dtypes  "
        },
        {
            "cell_type": "code",
            "execution_count": 5,
            "metadata": {},
            "outputs": [],
            "source": "#renaming to not have to keep typing out\ndf=df_data_1"
        },
        {
            "cell_type": "code",
            "execution_count": 6,
            "metadata": {},
            "outputs": [],
            "source": "#creating a df with speeding and severity code to see if speeding is more likely to cause an accident\ndf_comparison1=df.filter(['SEVERITYCODE', 'SPEEDING',], axis=1)"
        },
        {
            "cell_type": "code",
            "execution_count": 7,
            "metadata": {},
            "outputs": [
                {
                    "data": {
                        "text/html": "<div>\n<style scoped>\n    .dataframe tbody tr th:only-of-type {\n        vertical-align: middle;\n    }\n\n    .dataframe tbody tr th {\n        vertical-align: top;\n    }\n\n    .dataframe thead th {\n        text-align: right;\n    }\n</style>\n<table border=\"1\" class=\"dataframe\">\n  <thead>\n    <tr style=\"text-align: right;\">\n      <th></th>\n      <th>SEVERITYCODE</th>\n      <th>SPEEDING</th>\n    </tr>\n  </thead>\n  <tbody>\n    <tr>\n      <th>0</th>\n      <td>2</td>\n      <td>NaN</td>\n    </tr>\n    <tr>\n      <th>1</th>\n      <td>1</td>\n      <td>NaN</td>\n    </tr>\n    <tr>\n      <th>2</th>\n      <td>1</td>\n      <td>NaN</td>\n    </tr>\n    <tr>\n      <th>3</th>\n      <td>1</td>\n      <td>NaN</td>\n    </tr>\n    <tr>\n      <th>4</th>\n      <td>2</td>\n      <td>NaN</td>\n    </tr>\n    <tr>\n      <th>5</th>\n      <td>1</td>\n      <td>NaN</td>\n    </tr>\n    <tr>\n      <th>6</th>\n      <td>1</td>\n      <td>NaN</td>\n    </tr>\n    <tr>\n      <th>7</th>\n      <td>2</td>\n      <td>NaN</td>\n    </tr>\n    <tr>\n      <th>8</th>\n      <td>1</td>\n      <td>NaN</td>\n    </tr>\n    <tr>\n      <th>9</th>\n      <td>2</td>\n      <td>NaN</td>\n    </tr>\n    <tr>\n      <th>10</th>\n      <td>1</td>\n      <td>NaN</td>\n    </tr>\n    <tr>\n      <th>11</th>\n      <td>1</td>\n      <td>NaN</td>\n    </tr>\n    <tr>\n      <th>12</th>\n      <td>1</td>\n      <td>NaN</td>\n    </tr>\n    <tr>\n      <th>13</th>\n      <td>1</td>\n      <td>NaN</td>\n    </tr>\n    <tr>\n      <th>14</th>\n      <td>2</td>\n      <td>NaN</td>\n    </tr>\n    <tr>\n      <th>15</th>\n      <td>1</td>\n      <td>NaN</td>\n    </tr>\n    <tr>\n      <th>16</th>\n      <td>2</td>\n      <td>NaN</td>\n    </tr>\n    <tr>\n      <th>17</th>\n      <td>1</td>\n      <td>NaN</td>\n    </tr>\n    <tr>\n      <th>18</th>\n      <td>2</td>\n      <td>NaN</td>\n    </tr>\n    <tr>\n      <th>19</th>\n      <td>1</td>\n      <td>NaN</td>\n    </tr>\n    <tr>\n      <th>20</th>\n      <td>2</td>\n      <td>NaN</td>\n    </tr>\n    <tr>\n      <th>21</th>\n      <td>2</td>\n      <td>NaN</td>\n    </tr>\n    <tr>\n      <th>22</th>\n      <td>1</td>\n      <td>NaN</td>\n    </tr>\n    <tr>\n      <th>23</th>\n      <td>1</td>\n      <td>NaN</td>\n    </tr>\n    <tr>\n      <th>24</th>\n      <td>2</td>\n      <td>Y</td>\n    </tr>\n    <tr>\n      <th>25</th>\n      <td>2</td>\n      <td>NaN</td>\n    </tr>\n    <tr>\n      <th>26</th>\n      <td>1</td>\n      <td>NaN</td>\n    </tr>\n    <tr>\n      <th>27</th>\n      <td>1</td>\n      <td>NaN</td>\n    </tr>\n    <tr>\n      <th>28</th>\n      <td>1</td>\n      <td>NaN</td>\n    </tr>\n    <tr>\n      <th>29</th>\n      <td>1</td>\n      <td>NaN</td>\n    </tr>\n    <tr>\n      <th>...</th>\n      <td>...</td>\n      <td>...</td>\n    </tr>\n    <tr>\n      <th>194643</th>\n      <td>1</td>\n      <td>NaN</td>\n    </tr>\n    <tr>\n      <th>194644</th>\n      <td>1</td>\n      <td>NaN</td>\n    </tr>\n    <tr>\n      <th>194645</th>\n      <td>2</td>\n      <td>NaN</td>\n    </tr>\n    <tr>\n      <th>194646</th>\n      <td>1</td>\n      <td>NaN</td>\n    </tr>\n    <tr>\n      <th>194647</th>\n      <td>2</td>\n      <td>NaN</td>\n    </tr>\n    <tr>\n      <th>194648</th>\n      <td>1</td>\n      <td>NaN</td>\n    </tr>\n    <tr>\n      <th>194649</th>\n      <td>2</td>\n      <td>NaN</td>\n    </tr>\n    <tr>\n      <th>194650</th>\n      <td>2</td>\n      <td>NaN</td>\n    </tr>\n    <tr>\n      <th>194651</th>\n      <td>1</td>\n      <td>NaN</td>\n    </tr>\n    <tr>\n      <th>194652</th>\n      <td>1</td>\n      <td>NaN</td>\n    </tr>\n    <tr>\n      <th>194653</th>\n      <td>2</td>\n      <td>NaN</td>\n    </tr>\n    <tr>\n      <th>194654</th>\n      <td>1</td>\n      <td>NaN</td>\n    </tr>\n    <tr>\n      <th>194655</th>\n      <td>2</td>\n      <td>NaN</td>\n    </tr>\n    <tr>\n      <th>194656</th>\n      <td>2</td>\n      <td>NaN</td>\n    </tr>\n    <tr>\n      <th>194657</th>\n      <td>1</td>\n      <td>NaN</td>\n    </tr>\n    <tr>\n      <th>194658</th>\n      <td>1</td>\n      <td>NaN</td>\n    </tr>\n    <tr>\n      <th>194659</th>\n      <td>1</td>\n      <td>NaN</td>\n    </tr>\n    <tr>\n      <th>194660</th>\n      <td>2</td>\n      <td>NaN</td>\n    </tr>\n    <tr>\n      <th>194661</th>\n      <td>2</td>\n      <td>NaN</td>\n    </tr>\n    <tr>\n      <th>194662</th>\n      <td>1</td>\n      <td>NaN</td>\n    </tr>\n    <tr>\n      <th>194663</th>\n      <td>2</td>\n      <td>NaN</td>\n    </tr>\n    <tr>\n      <th>194664</th>\n      <td>1</td>\n      <td>NaN</td>\n    </tr>\n    <tr>\n      <th>194665</th>\n      <td>1</td>\n      <td>NaN</td>\n    </tr>\n    <tr>\n      <th>194666</th>\n      <td>2</td>\n      <td>NaN</td>\n    </tr>\n    <tr>\n      <th>194667</th>\n      <td>1</td>\n      <td>NaN</td>\n    </tr>\n    <tr>\n      <th>194668</th>\n      <td>2</td>\n      <td>NaN</td>\n    </tr>\n    <tr>\n      <th>194669</th>\n      <td>1</td>\n      <td>NaN</td>\n    </tr>\n    <tr>\n      <th>194670</th>\n      <td>2</td>\n      <td>NaN</td>\n    </tr>\n    <tr>\n      <th>194671</th>\n      <td>2</td>\n      <td>NaN</td>\n    </tr>\n    <tr>\n      <th>194672</th>\n      <td>1</td>\n      <td>NaN</td>\n    </tr>\n  </tbody>\n</table>\n<p>194673 rows \u00d7 2 columns</p>\n</div>",
                        "text/plain": "        SEVERITYCODE SPEEDING\n0                  2      NaN\n1                  1      NaN\n2                  1      NaN\n3                  1      NaN\n4                  2      NaN\n5                  1      NaN\n6                  1      NaN\n7                  2      NaN\n8                  1      NaN\n9                  2      NaN\n10                 1      NaN\n11                 1      NaN\n12                 1      NaN\n13                 1      NaN\n14                 2      NaN\n15                 1      NaN\n16                 2      NaN\n17                 1      NaN\n18                 2      NaN\n19                 1      NaN\n20                 2      NaN\n21                 2      NaN\n22                 1      NaN\n23                 1      NaN\n24                 2        Y\n25                 2      NaN\n26                 1      NaN\n27                 1      NaN\n28                 1      NaN\n29                 1      NaN\n...              ...      ...\n194643             1      NaN\n194644             1      NaN\n194645             2      NaN\n194646             1      NaN\n194647             2      NaN\n194648             1      NaN\n194649             2      NaN\n194650             2      NaN\n194651             1      NaN\n194652             1      NaN\n194653             2      NaN\n194654             1      NaN\n194655             2      NaN\n194656             2      NaN\n194657             1      NaN\n194658             1      NaN\n194659             1      NaN\n194660             2      NaN\n194661             2      NaN\n194662             1      NaN\n194663             2      NaN\n194664             1      NaN\n194665             1      NaN\n194666             2      NaN\n194667             1      NaN\n194668             2      NaN\n194669             1      NaN\n194670             2      NaN\n194671             2      NaN\n194672             1      NaN\n\n[194673 rows x 2 columns]"
                    },
                    "execution_count": 7,
                    "metadata": {},
                    "output_type": "execute_result"
                }
            ],
            "source": "df_comparison1"
        },
        {
            "cell_type": "code",
            "execution_count": 8,
            "metadata": {},
            "outputs": [],
            "source": "df1 = df_comparison1"
        },
        {
            "cell_type": "code",
            "execution_count": 9,
            "metadata": {},
            "outputs": [
                {
                    "data": {
                        "text/plain": "Index(['SEVERITYCODE', 'SPEEDING'], dtype='object')"
                    },
                    "execution_count": 9,
                    "metadata": {},
                    "output_type": "execute_result"
                }
            ],
            "source": "df1.columns"
        },
        {
            "cell_type": "code",
            "execution_count": null,
            "metadata": {},
            "outputs": [],
            "source": ""
        },
        {
            "cell_type": "code",
            "execution_count": null,
            "metadata": {},
            "outputs": [],
            "source": ""
        },
        {
            "cell_type": "code",
            "execution_count": null,
            "metadata": {},
            "outputs": [],
            "source": ""
        },
        {
            "cell_type": "code",
            "execution_count": null,
            "metadata": {},
            "outputs": [],
            "source": ""
        },
        {
            "cell_type": "code",
            "execution_count": 10,
            "metadata": {},
            "outputs": [
                {
                    "data": {
                        "text/html": "<div>\n<style scoped>\n    .dataframe tbody tr th:only-of-type {\n        vertical-align: middle;\n    }\n\n    .dataframe tbody tr th {\n        vertical-align: top;\n    }\n\n    .dataframe thead th {\n        text-align: right;\n    }\n</style>\n<table border=\"1\" class=\"dataframe\">\n  <thead>\n    <tr style=\"text-align: right;\">\n      <th></th>\n      <th>SEVERITYCODE</th>\n    </tr>\n  </thead>\n  <tbody>\n    <tr>\n      <th>1</th>\n      <td>136485</td>\n    </tr>\n    <tr>\n      <th>2</th>\n      <td>58188</td>\n    </tr>\n  </tbody>\n</table>\n</div>",
                        "text/plain": "   SEVERITYCODE\n1        136485\n2         58188"
                    },
                    "execution_count": 10,
                    "metadata": {},
                    "output_type": "execute_result"
                }
            ],
            "source": "df1['SEVERITYCODE'].value_counts().to_frame()"
        },
        {
            "cell_type": "code",
            "execution_count": 11,
            "metadata": {},
            "outputs": [],
            "source": "#cannot use speeding for comparison, lacks the data necessary to make any conclusions\n##making new hypothesis... determine whether dark/unlit conditions have an impact on accidents"
        },
        {
            "cell_type": "code",
            "execution_count": 12,
            "metadata": {},
            "outputs": [],
            "source": "df2=df_data_1"
        },
        {
            "cell_type": "code",
            "execution_count": 13,
            "metadata": {},
            "outputs": [
                {
                    "data": {
                        "text/html": "<div>\n<style scoped>\n    .dataframe tbody tr th:only-of-type {\n        vertical-align: middle;\n    }\n\n    .dataframe tbody tr th {\n        vertical-align: top;\n    }\n\n    .dataframe thead th {\n        text-align: right;\n    }\n</style>\n<table border=\"1\" class=\"dataframe\">\n  <thead>\n    <tr style=\"text-align: right;\">\n      <th></th>\n      <th>LIGHTCOND</th>\n    </tr>\n  </thead>\n  <tbody>\n    <tr>\n      <th>Daylight</th>\n      <td>116137</td>\n    </tr>\n    <tr>\n      <th>Dark - Street Lights On</th>\n      <td>48507</td>\n    </tr>\n    <tr>\n      <th>Unknown</th>\n      <td>13473</td>\n    </tr>\n    <tr>\n      <th>Dusk</th>\n      <td>5902</td>\n    </tr>\n    <tr>\n      <th>Dawn</th>\n      <td>2502</td>\n    </tr>\n    <tr>\n      <th>Dark - No Street Lights</th>\n      <td>1537</td>\n    </tr>\n    <tr>\n      <th>Dark - Street Lights Off</th>\n      <td>1199</td>\n    </tr>\n    <tr>\n      <th>Other</th>\n      <td>235</td>\n    </tr>\n    <tr>\n      <th>Dark - Unknown Lighting</th>\n      <td>11</td>\n    </tr>\n  </tbody>\n</table>\n</div>",
                        "text/plain": "                          LIGHTCOND\nDaylight                     116137\nDark - Street Lights On       48507\nUnknown                       13473\nDusk                           5902\nDawn                           2502\nDark - No Street Lights        1537\nDark - Street Lights Off       1199\nOther                           235\nDark - Unknown Lighting          11"
                    },
                    "execution_count": 13,
                    "metadata": {},
                    "output_type": "execute_result"
                }
            ],
            "source": "df2['LIGHTCOND'].value_counts().to_frame()"
        },
        {
            "cell_type": "code",
            "execution_count": 14,
            "metadata": {},
            "outputs": [
                {
                    "data": {
                        "text/html": "<div>\n<style scoped>\n    .dataframe tbody tr th:only-of-type {\n        vertical-align: middle;\n    }\n\n    .dataframe tbody tr th {\n        vertical-align: top;\n    }\n\n    .dataframe thead th {\n        text-align: right;\n    }\n</style>\n<table border=\"1\" class=\"dataframe\">\n  <thead>\n    <tr style=\"text-align: right;\">\n      <th></th>\n      <th>SEVERITYCODE</th>\n      <th>LIGHTCOND</th>\n    </tr>\n  </thead>\n  <tbody>\n    <tr>\n      <th>0</th>\n      <td>2</td>\n      <td>Daylight</td>\n    </tr>\n    <tr>\n      <th>1</th>\n      <td>1</td>\n      <td>Dark - Street Lights On</td>\n    </tr>\n    <tr>\n      <th>2</th>\n      <td>1</td>\n      <td>Daylight</td>\n    </tr>\n    <tr>\n      <th>3</th>\n      <td>1</td>\n      <td>Daylight</td>\n    </tr>\n    <tr>\n      <th>4</th>\n      <td>2</td>\n      <td>Daylight</td>\n    </tr>\n    <tr>\n      <th>5</th>\n      <td>1</td>\n      <td>Daylight</td>\n    </tr>\n    <tr>\n      <th>6</th>\n      <td>1</td>\n      <td>Daylight</td>\n    </tr>\n    <tr>\n      <th>7</th>\n      <td>2</td>\n      <td>Daylight</td>\n    </tr>\n    <tr>\n      <th>8</th>\n      <td>1</td>\n      <td>Daylight</td>\n    </tr>\n    <tr>\n      <th>9</th>\n      <td>2</td>\n      <td>Daylight</td>\n    </tr>\n    <tr>\n      <th>10</th>\n      <td>1</td>\n      <td>Daylight</td>\n    </tr>\n    <tr>\n      <th>11</th>\n      <td>1</td>\n      <td>Daylight</td>\n    </tr>\n    <tr>\n      <th>12</th>\n      <td>1</td>\n      <td>Dark - Street Lights On</td>\n    </tr>\n    <tr>\n      <th>13</th>\n      <td>1</td>\n      <td>Dark - No Street Lights</td>\n    </tr>\n    <tr>\n      <th>14</th>\n      <td>2</td>\n      <td>Dark - Street Lights On</td>\n    </tr>\n    <tr>\n      <th>15</th>\n      <td>1</td>\n      <td>NaN</td>\n    </tr>\n    <tr>\n      <th>16</th>\n      <td>2</td>\n      <td>Daylight</td>\n    </tr>\n    <tr>\n      <th>17</th>\n      <td>1</td>\n      <td>Daylight</td>\n    </tr>\n    <tr>\n      <th>18</th>\n      <td>2</td>\n      <td>Daylight</td>\n    </tr>\n    <tr>\n      <th>19</th>\n      <td>1</td>\n      <td>Unknown</td>\n    </tr>\n    <tr>\n      <th>20</th>\n      <td>2</td>\n      <td>Dark - Street Lights On</td>\n    </tr>\n    <tr>\n      <th>21</th>\n      <td>2</td>\n      <td>Daylight</td>\n    </tr>\n    <tr>\n      <th>22</th>\n      <td>1</td>\n      <td>Dark - Street Lights On</td>\n    </tr>\n    <tr>\n      <th>23</th>\n      <td>1</td>\n      <td>Unknown</td>\n    </tr>\n    <tr>\n      <th>24</th>\n      <td>2</td>\n      <td>Daylight</td>\n    </tr>\n    <tr>\n      <th>25</th>\n      <td>2</td>\n      <td>Daylight</td>\n    </tr>\n    <tr>\n      <th>26</th>\n      <td>1</td>\n      <td>Unknown</td>\n    </tr>\n    <tr>\n      <th>27</th>\n      <td>1</td>\n      <td>Daylight</td>\n    </tr>\n    <tr>\n      <th>28</th>\n      <td>1</td>\n      <td>Daylight</td>\n    </tr>\n    <tr>\n      <th>29</th>\n      <td>1</td>\n      <td>Daylight</td>\n    </tr>\n    <tr>\n      <th>...</th>\n      <td>...</td>\n      <td>...</td>\n    </tr>\n    <tr>\n      <th>194643</th>\n      <td>1</td>\n      <td>Dark - Street Lights On</td>\n    </tr>\n    <tr>\n      <th>194644</th>\n      <td>1</td>\n      <td>Dusk</td>\n    </tr>\n    <tr>\n      <th>194645</th>\n      <td>2</td>\n      <td>Dark - Street Lights On</td>\n    </tr>\n    <tr>\n      <th>194646</th>\n      <td>1</td>\n      <td>NaN</td>\n    </tr>\n    <tr>\n      <th>194647</th>\n      <td>2</td>\n      <td>Dusk</td>\n    </tr>\n    <tr>\n      <th>194648</th>\n      <td>1</td>\n      <td>Dark - Street Lights On</td>\n    </tr>\n    <tr>\n      <th>194649</th>\n      <td>2</td>\n      <td>Dark - Street Lights On</td>\n    </tr>\n    <tr>\n      <th>194650</th>\n      <td>2</td>\n      <td>Daylight</td>\n    </tr>\n    <tr>\n      <th>194651</th>\n      <td>1</td>\n      <td>Dark - Street Lights On</td>\n    </tr>\n    <tr>\n      <th>194652</th>\n      <td>1</td>\n      <td>Dusk</td>\n    </tr>\n    <tr>\n      <th>194653</th>\n      <td>2</td>\n      <td>Dark - Street Lights On</td>\n    </tr>\n    <tr>\n      <th>194654</th>\n      <td>1</td>\n      <td>NaN</td>\n    </tr>\n    <tr>\n      <th>194655</th>\n      <td>2</td>\n      <td>NaN</td>\n    </tr>\n    <tr>\n      <th>194656</th>\n      <td>2</td>\n      <td>Daylight</td>\n    </tr>\n    <tr>\n      <th>194657</th>\n      <td>1</td>\n      <td>Dark - Street Lights On</td>\n    </tr>\n    <tr>\n      <th>194658</th>\n      <td>1</td>\n      <td>Dark - Street Lights On</td>\n    </tr>\n    <tr>\n      <th>194659</th>\n      <td>1</td>\n      <td>Dark - Street Lights On</td>\n    </tr>\n    <tr>\n      <th>194660</th>\n      <td>2</td>\n      <td>Other</td>\n    </tr>\n    <tr>\n      <th>194661</th>\n      <td>2</td>\n      <td>Daylight</td>\n    </tr>\n    <tr>\n      <th>194662</th>\n      <td>1</td>\n      <td>Dusk</td>\n    </tr>\n    <tr>\n      <th>194663</th>\n      <td>2</td>\n      <td>Daylight</td>\n    </tr>\n    <tr>\n      <th>194664</th>\n      <td>1</td>\n      <td>Daylight</td>\n    </tr>\n    <tr>\n      <th>194665</th>\n      <td>1</td>\n      <td>Daylight</td>\n    </tr>\n    <tr>\n      <th>194666</th>\n      <td>2</td>\n      <td>Daylight</td>\n    </tr>\n    <tr>\n      <th>194667</th>\n      <td>1</td>\n      <td>Dark - Street Lights On</td>\n    </tr>\n    <tr>\n      <th>194668</th>\n      <td>2</td>\n      <td>Daylight</td>\n    </tr>\n    <tr>\n      <th>194669</th>\n      <td>1</td>\n      <td>Daylight</td>\n    </tr>\n    <tr>\n      <th>194670</th>\n      <td>2</td>\n      <td>Daylight</td>\n    </tr>\n    <tr>\n      <th>194671</th>\n      <td>2</td>\n      <td>Dusk</td>\n    </tr>\n    <tr>\n      <th>194672</th>\n      <td>1</td>\n      <td>Daylight</td>\n    </tr>\n  </tbody>\n</table>\n<p>194673 rows \u00d7 2 columns</p>\n</div>",
                        "text/plain": "        SEVERITYCODE                LIGHTCOND\n0                  2                 Daylight\n1                  1  Dark - Street Lights On\n2                  1                 Daylight\n3                  1                 Daylight\n4                  2                 Daylight\n5                  1                 Daylight\n6                  1                 Daylight\n7                  2                 Daylight\n8                  1                 Daylight\n9                  2                 Daylight\n10                 1                 Daylight\n11                 1                 Daylight\n12                 1  Dark - Street Lights On\n13                 1  Dark - No Street Lights\n14                 2  Dark - Street Lights On\n15                 1                      NaN\n16                 2                 Daylight\n17                 1                 Daylight\n18                 2                 Daylight\n19                 1                  Unknown\n20                 2  Dark - Street Lights On\n21                 2                 Daylight\n22                 1  Dark - Street Lights On\n23                 1                  Unknown\n24                 2                 Daylight\n25                 2                 Daylight\n26                 1                  Unknown\n27                 1                 Daylight\n28                 1                 Daylight\n29                 1                 Daylight\n...              ...                      ...\n194643             1  Dark - Street Lights On\n194644             1                     Dusk\n194645             2  Dark - Street Lights On\n194646             1                      NaN\n194647             2                     Dusk\n194648             1  Dark - Street Lights On\n194649             2  Dark - Street Lights On\n194650             2                 Daylight\n194651             1  Dark - Street Lights On\n194652             1                     Dusk\n194653             2  Dark - Street Lights On\n194654             1                      NaN\n194655             2                      NaN\n194656             2                 Daylight\n194657             1  Dark - Street Lights On\n194658             1  Dark - Street Lights On\n194659             1  Dark - Street Lights On\n194660             2                    Other\n194661             2                 Daylight\n194662             1                     Dusk\n194663             2                 Daylight\n194664             1                 Daylight\n194665             1                 Daylight\n194666             2                 Daylight\n194667             1  Dark - Street Lights On\n194668             2                 Daylight\n194669             1                 Daylight\n194670             2                 Daylight\n194671             2                     Dusk\n194672             1                 Daylight\n\n[194673 rows x 2 columns]"
                    },
                    "execution_count": 14,
                    "metadata": {},
                    "output_type": "execute_result"
                }
            ],
            "source": "df2=df2.filter(['SEVERITYCODE', 'LIGHTCOND'], axis=1)\ndf2"
        },
        {
            "cell_type": "code",
            "execution_count": 15,
            "metadata": {},
            "outputs": [
                {
                    "data": {
                        "text/plain": "SEVERITYCODE     int64\nLIGHTCOND       object\ndtype: object"
                    },
                    "execution_count": 15,
                    "metadata": {},
                    "output_type": "execute_result"
                }
            ],
            "source": "df2.dtypes"
        },
        {
            "cell_type": "code",
            "execution_count": 16,
            "metadata": {},
            "outputs": [],
            "source": "def lightcond(x):\n    if x ==\"Daylight\":\n        return \"Light\"\n    else:\n        return \"Dark\"\n"
        },
        {
            "cell_type": "code",
            "execution_count": 17,
            "metadata": {
                "scrolled": true
            },
            "outputs": [],
            "source": "df2['LIGHTCOND'] = df2.LIGHTCOND.apply(lightcond)"
        },
        {
            "cell_type": "code",
            "execution_count": 18,
            "metadata": {},
            "outputs": [
                {
                    "data": {
                        "text/plain": "Light    116137\nDark      78536\nName: LIGHTCOND, dtype: int64"
                    },
                    "execution_count": 18,
                    "metadata": {},
                    "output_type": "execute_result"
                }
            ],
            "source": "df2['LIGHTCOND'].value_counts()"
        },
        {
            "cell_type": "code",
            "execution_count": 19,
            "metadata": {},
            "outputs": [],
            "source": "#In the dataset there is now light for daylight and dark for all other non lit conditions\n"
        },
        {
            "cell_type": "code",
            "execution_count": 20,
            "metadata": {},
            "outputs": [],
            "source": "def severity(x):\n    if x== 1:\n        return \"Damage\"\n    else:\n        if x== 2:\n            return \"Injury\"\n        else:\n            return 0"
        },
        {
            "cell_type": "code",
            "execution_count": 21,
            "metadata": {},
            "outputs": [
                {
                    "data": {
                        "text/plain": "Damage    136485\nInjury     58188\nName: SEVERITYCODE, dtype: int64"
                    },
                    "execution_count": 21,
                    "metadata": {},
                    "output_type": "execute_result"
                }
            ],
            "source": "df2['SEVERITYCODE']=df2.SEVERITYCODE.apply(severity)\ndf2['SEVERITYCODE'].value_counts()"
        },
        {
            "cell_type": "code",
            "execution_count": 22,
            "metadata": {},
            "outputs": [
                {
                    "data": {
                        "text/html": "<div>\n<style scoped>\n    .dataframe tbody tr th:only-of-type {\n        vertical-align: middle;\n    }\n\n    .dataframe tbody tr th {\n        vertical-align: top;\n    }\n\n    .dataframe thead th {\n        text-align: right;\n    }\n</style>\n<table border=\"1\" class=\"dataframe\">\n  <thead>\n    <tr style=\"text-align: right;\">\n      <th></th>\n      <th>SEVERITYCODE</th>\n      <th>LIGHTCOND</th>\n    </tr>\n  </thead>\n  <tbody>\n    <tr>\n      <th>0</th>\n      <td>Injury</td>\n      <td>Light</td>\n    </tr>\n    <tr>\n      <th>1</th>\n      <td>Damage</td>\n      <td>Dark</td>\n    </tr>\n    <tr>\n      <th>2</th>\n      <td>Damage</td>\n      <td>Light</td>\n    </tr>\n    <tr>\n      <th>3</th>\n      <td>Damage</td>\n      <td>Light</td>\n    </tr>\n    <tr>\n      <th>4</th>\n      <td>Injury</td>\n      <td>Light</td>\n    </tr>\n    <tr>\n      <th>5</th>\n      <td>Damage</td>\n      <td>Light</td>\n    </tr>\n    <tr>\n      <th>6</th>\n      <td>Damage</td>\n      <td>Light</td>\n    </tr>\n    <tr>\n      <th>7</th>\n      <td>Injury</td>\n      <td>Light</td>\n    </tr>\n    <tr>\n      <th>8</th>\n      <td>Damage</td>\n      <td>Light</td>\n    </tr>\n    <tr>\n      <th>9</th>\n      <td>Injury</td>\n      <td>Light</td>\n    </tr>\n    <tr>\n      <th>10</th>\n      <td>Damage</td>\n      <td>Light</td>\n    </tr>\n    <tr>\n      <th>11</th>\n      <td>Damage</td>\n      <td>Light</td>\n    </tr>\n    <tr>\n      <th>12</th>\n      <td>Damage</td>\n      <td>Dark</td>\n    </tr>\n    <tr>\n      <th>13</th>\n      <td>Damage</td>\n      <td>Dark</td>\n    </tr>\n    <tr>\n      <th>14</th>\n      <td>Injury</td>\n      <td>Dark</td>\n    </tr>\n    <tr>\n      <th>15</th>\n      <td>Damage</td>\n      <td>Dark</td>\n    </tr>\n    <tr>\n      <th>16</th>\n      <td>Injury</td>\n      <td>Light</td>\n    </tr>\n    <tr>\n      <th>17</th>\n      <td>Damage</td>\n      <td>Light</td>\n    </tr>\n    <tr>\n      <th>18</th>\n      <td>Injury</td>\n      <td>Light</td>\n    </tr>\n    <tr>\n      <th>19</th>\n      <td>Damage</td>\n      <td>Dark</td>\n    </tr>\n    <tr>\n      <th>20</th>\n      <td>Injury</td>\n      <td>Dark</td>\n    </tr>\n    <tr>\n      <th>21</th>\n      <td>Injury</td>\n      <td>Light</td>\n    </tr>\n    <tr>\n      <th>22</th>\n      <td>Damage</td>\n      <td>Dark</td>\n    </tr>\n    <tr>\n      <th>23</th>\n      <td>Damage</td>\n      <td>Dark</td>\n    </tr>\n    <tr>\n      <th>24</th>\n      <td>Injury</td>\n      <td>Light</td>\n    </tr>\n    <tr>\n      <th>25</th>\n      <td>Injury</td>\n      <td>Light</td>\n    </tr>\n    <tr>\n      <th>26</th>\n      <td>Damage</td>\n      <td>Dark</td>\n    </tr>\n    <tr>\n      <th>27</th>\n      <td>Damage</td>\n      <td>Light</td>\n    </tr>\n    <tr>\n      <th>28</th>\n      <td>Damage</td>\n      <td>Light</td>\n    </tr>\n    <tr>\n      <th>29</th>\n      <td>Damage</td>\n      <td>Light</td>\n    </tr>\n    <tr>\n      <th>...</th>\n      <td>...</td>\n      <td>...</td>\n    </tr>\n    <tr>\n      <th>194643</th>\n      <td>Damage</td>\n      <td>Dark</td>\n    </tr>\n    <tr>\n      <th>194644</th>\n      <td>Damage</td>\n      <td>Dark</td>\n    </tr>\n    <tr>\n      <th>194645</th>\n      <td>Injury</td>\n      <td>Dark</td>\n    </tr>\n    <tr>\n      <th>194646</th>\n      <td>Damage</td>\n      <td>Dark</td>\n    </tr>\n    <tr>\n      <th>194647</th>\n      <td>Injury</td>\n      <td>Dark</td>\n    </tr>\n    <tr>\n      <th>194648</th>\n      <td>Damage</td>\n      <td>Dark</td>\n    </tr>\n    <tr>\n      <th>194649</th>\n      <td>Injury</td>\n      <td>Dark</td>\n    </tr>\n    <tr>\n      <th>194650</th>\n      <td>Injury</td>\n      <td>Light</td>\n    </tr>\n    <tr>\n      <th>194651</th>\n      <td>Damage</td>\n      <td>Dark</td>\n    </tr>\n    <tr>\n      <th>194652</th>\n      <td>Damage</td>\n      <td>Dark</td>\n    </tr>\n    <tr>\n      <th>194653</th>\n      <td>Injury</td>\n      <td>Dark</td>\n    </tr>\n    <tr>\n      <th>194654</th>\n      <td>Damage</td>\n      <td>Dark</td>\n    </tr>\n    <tr>\n      <th>194655</th>\n      <td>Injury</td>\n      <td>Dark</td>\n    </tr>\n    <tr>\n      <th>194656</th>\n      <td>Injury</td>\n      <td>Light</td>\n    </tr>\n    <tr>\n      <th>194657</th>\n      <td>Damage</td>\n      <td>Dark</td>\n    </tr>\n    <tr>\n      <th>194658</th>\n      <td>Damage</td>\n      <td>Dark</td>\n    </tr>\n    <tr>\n      <th>194659</th>\n      <td>Damage</td>\n      <td>Dark</td>\n    </tr>\n    <tr>\n      <th>194660</th>\n      <td>Injury</td>\n      <td>Dark</td>\n    </tr>\n    <tr>\n      <th>194661</th>\n      <td>Injury</td>\n      <td>Light</td>\n    </tr>\n    <tr>\n      <th>194662</th>\n      <td>Damage</td>\n      <td>Dark</td>\n    </tr>\n    <tr>\n      <th>194663</th>\n      <td>Injury</td>\n      <td>Light</td>\n    </tr>\n    <tr>\n      <th>194664</th>\n      <td>Damage</td>\n      <td>Light</td>\n    </tr>\n    <tr>\n      <th>194665</th>\n      <td>Damage</td>\n      <td>Light</td>\n    </tr>\n    <tr>\n      <th>194666</th>\n      <td>Injury</td>\n      <td>Light</td>\n    </tr>\n    <tr>\n      <th>194667</th>\n      <td>Damage</td>\n      <td>Dark</td>\n    </tr>\n    <tr>\n      <th>194668</th>\n      <td>Injury</td>\n      <td>Light</td>\n    </tr>\n    <tr>\n      <th>194669</th>\n      <td>Damage</td>\n      <td>Light</td>\n    </tr>\n    <tr>\n      <th>194670</th>\n      <td>Injury</td>\n      <td>Light</td>\n    </tr>\n    <tr>\n      <th>194671</th>\n      <td>Injury</td>\n      <td>Dark</td>\n    </tr>\n    <tr>\n      <th>194672</th>\n      <td>Damage</td>\n      <td>Light</td>\n    </tr>\n  </tbody>\n</table>\n<p>194673 rows \u00d7 2 columns</p>\n</div>",
                        "text/plain": "       SEVERITYCODE LIGHTCOND\n0            Injury     Light\n1            Damage      Dark\n2            Damage     Light\n3            Damage     Light\n4            Injury     Light\n5            Damage     Light\n6            Damage     Light\n7            Injury     Light\n8            Damage     Light\n9            Injury     Light\n10           Damage     Light\n11           Damage     Light\n12           Damage      Dark\n13           Damage      Dark\n14           Injury      Dark\n15           Damage      Dark\n16           Injury     Light\n17           Damage     Light\n18           Injury     Light\n19           Damage      Dark\n20           Injury      Dark\n21           Injury     Light\n22           Damage      Dark\n23           Damage      Dark\n24           Injury     Light\n25           Injury     Light\n26           Damage      Dark\n27           Damage     Light\n28           Damage     Light\n29           Damage     Light\n...             ...       ...\n194643       Damage      Dark\n194644       Damage      Dark\n194645       Injury      Dark\n194646       Damage      Dark\n194647       Injury      Dark\n194648       Damage      Dark\n194649       Injury      Dark\n194650       Injury     Light\n194651       Damage      Dark\n194652       Damage      Dark\n194653       Injury      Dark\n194654       Damage      Dark\n194655       Injury      Dark\n194656       Injury     Light\n194657       Damage      Dark\n194658       Damage      Dark\n194659       Damage      Dark\n194660       Injury      Dark\n194661       Injury     Light\n194662       Damage      Dark\n194663       Injury     Light\n194664       Damage     Light\n194665       Damage     Light\n194666       Injury     Light\n194667       Damage      Dark\n194668       Injury     Light\n194669       Damage     Light\n194670       Injury     Light\n194671       Injury      Dark\n194672       Damage     Light\n\n[194673 rows x 2 columns]"
                    },
                    "execution_count": 22,
                    "metadata": {},
                    "output_type": "execute_result"
                }
            ],
            "source": "df2=df2.filter(['SEVERITYCODE', 'LIGHTCOND'], axis=1)\ndf2"
        },
        {
            "cell_type": "code",
            "execution_count": 26,
            "metadata": {},
            "outputs": [
                {
                    "data": {
                        "text/plain": "Light    116137\nDark      78536\nName: LIGHTCOND, dtype: int64"
                    },
                    "execution_count": 26,
                    "metadata": {},
                    "output_type": "execute_result"
                }
            ],
            "source": "df2['LIGHTCOND'].value_counts()"
        },
        {
            "cell_type": "code",
            "execution_count": 25,
            "metadata": {},
            "outputs": [
                {
                    "data": {
                        "text/plain": "Damage    136485\nInjury     58188\nName: SEVERITYCODE, dtype: int64"
                    },
                    "execution_count": 25,
                    "metadata": {},
                    "output_type": "execute_result"
                }
            ],
            "source": "df2['SEVERITYCODE'].value_counts()"
        },
        {
            "cell_type": "code",
            "execution_count": 27,
            "metadata": {},
            "outputs": [
                {
                    "data": {
                        "text/plain": "SEVERITYCODE    object\nLIGHTCOND       object\ndtype: object"
                    },
                    "execution_count": 27,
                    "metadata": {},
                    "output_type": "execute_result"
                }
            ],
            "source": "df2.dtypes"
        },
        {
            "cell_type": "code",
            "execution_count": 30,
            "metadata": {},
            "outputs": [
                {
                    "data": {
                        "text/html": "<div>\n<style scoped>\n    .dataframe tbody tr th:only-of-type {\n        vertical-align: middle;\n    }\n\n    .dataframe tbody tr th {\n        vertical-align: top;\n    }\n\n    .dataframe thead th {\n        text-align: right;\n    }\n</style>\n<table border=\"1\" class=\"dataframe\">\n  <thead>\n    <tr style=\"text-align: right;\">\n      <th>SEVERITYCODE</th>\n      <th>Damage</th>\n      <th>Injury</th>\n    </tr>\n    <tr>\n      <th>LIGHTCOND</th>\n      <th></th>\n      <th></th>\n    </tr>\n  </thead>\n  <tbody>\n    <tr>\n      <th>Dark</th>\n      <td>58892</td>\n      <td>19644</td>\n    </tr>\n    <tr>\n      <th>Light</th>\n      <td>77593</td>\n      <td>38544</td>\n    </tr>\n  </tbody>\n</table>\n</div>",
                        "text/plain": "SEVERITYCODE  Damage  Injury\nLIGHTCOND                   \nDark           58892   19644\nLight          77593   38544"
                    },
                    "execution_count": 30,
                    "metadata": {},
                    "output_type": "execute_result"
                }
            ],
            "source": "df2.groupby(['LIGHTCOND', 'SEVERITYCODE']).size().unstack()"
        },
        {
            "cell_type": "code",
            "execution_count": 35,
            "metadata": {},
            "outputs": [],
            "source": "df2= df2.groupby(['LIGHTCOND', 'SEVERITYCODE']).size().unstack()"
        },
        {
            "cell_type": "code",
            "execution_count": 36,
            "metadata": {},
            "outputs": [
                {
                    "data": {
                        "image/png": "[encoded data removed]",
                        "text/plain": "<Figure size 432x288 with 1 Axes>"
                    },
                    "metadata": {
                        "needs_background": "light"
                    },
                    "output_type": "display_data"
                }
            ],
            "source": "my_plot=df2.unstack().plot(kind='bar', stacked=True)"
        },
        {
            "cell_type": "code",
            "execution_count": 37,
            "metadata": {},
            "outputs": [
                {
                    "data": {
                        "text/plain": "78536"
                    },
                    "execution_count": 37,
                    "metadata": {},
                    "output_type": "execute_result"
                }
            ],
            "source": "58892+19644"
        },
        {
            "cell_type": "code",
            "execution_count": 38,
            "metadata": {},
            "outputs": [
                {
                    "data": {
                        "text/plain": "116137"
                    },
                    "execution_count": 38,
                    "metadata": {},
                    "output_type": "execute_result"
                }
            ],
            "source": "77593+38544"
        },
        {
            "cell_type": "code",
            "execution_count": 39,
            "metadata": {},
            "outputs": [
                {
                    "data": {
                        "text/plain": "194673"
                    },
                    "execution_count": 39,
                    "metadata": {},
                    "output_type": "execute_result"
                }
            ],
            "source": "116137+78536\n"
        },
        {
            "cell_type": "code",
            "execution_count": 42,
            "metadata": {},
            "outputs": [
                {
                    "data": {
                        "text/plain": "3027091584"
                    },
                    "execution_count": 42,
                    "metadata": {},
                    "output_type": "execute_result"
                }
            ],
            "source": "78536*38544"
        },
        {
            "cell_type": "code",
            "execution_count": 43,
            "metadata": {},
            "outputs": [
                {
                    "data": {
                        "text/plain": "26064.83363613663"
                    },
                    "execution_count": 43,
                    "metadata": {},
                    "output_type": "execute_result"
                }
            ],
            "source": "3027091584/116137"
        },
        {
            "cell_type": "code",
            "execution_count": 44,
            "metadata": {},
            "outputs": [],
            "source": "#total accidents in the light=116137 , injuries in the light=38544\n#total injuries in the dark=78536, injuries in the dark=19644"
        },
        {
            "cell_type": "code",
            "execution_count": 45,
            "metadata": {},
            "outputs": [
                {
                    "data": {
                        "text/plain": "3.0131210435449836"
                    },
                    "execution_count": 45,
                    "metadata": {},
                    "output_type": "execute_result"
                }
            ],
            "source": ""
        },
        {
            "cell_type": "code",
            "execution_count": 46,
            "metadata": {},
            "outputs": [
                {
                    "data": {
                        "text/plain": "3.013101909506019"
                    },
                    "execution_count": 46,
                    "metadata": {},
                    "output_type": "execute_result"
                }
            ],
            "source": ""
        },
        {
            "cell_type": "code",
            "execution_count": null,
            "metadata": {},
            "outputs": [],
            "source": ""
        }
    ],
    "metadata": {
        "kernelspec": {
            "display_name": "Python 3.6",
            "language": "python",
            "name": "python3"
        },
        "language_info": {
            "codemirror_mode": {
                "name": "ipython",
                "version": 3
            },
            "file_extension": ".py",
            "mimetype": "text/x-python",
            "name": "python",
            "nbconvert_exporter": "python",
            "pygments_lexer": "ipython3",
            "version": "3.6.9"
        }
    },
    "nbformat": 4,
    "nbformat_minor": 1
}
